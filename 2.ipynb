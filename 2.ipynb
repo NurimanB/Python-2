{
 "cells": [
  {
   "cell_type": "code",
   "execution_count": 1,
   "metadata": {},
   "outputs": [
    {
     "name": "stdout",
     "output_type": "stream",
     "text": [
      " *** \n",
      "*   *\n",
      "*   *\n",
      "*   *\n",
      "*   *\n",
      "*   *\n",
      " *** \n"
     ]
    }
   ],
   "source": [
    "r = 7\n",
    "c = 5\n",
    "for i in range(r):\n",
    "    for j in range(c):\n",
    "        if (i == 0 or i == r - 1) and (j > 0 and j < c - 1):\n",
    "            print('*', end='')\n",
    "        elif (j == 0 or j == c - 1) and (i > 0 and i < r - 1):\n",
    "            print('*', end='')\n",
    "        else:\n",
    "            print(' ', end='')\n",
    "    print()"
   ]
  },
  {
   "cell_type": "code",
   "execution_count": 2,
   "metadata": {},
   "outputs": [
    {
     "name": "stdout",
     "output_type": "stream",
     "text": [
      "**** \n",
      "*   *\n",
      "*   *\n",
      "**** \n",
      "**   \n",
      "* *  \n",
      "*  * \n"
     ]
    }
   ],
   "source": [
    "r = 7\n",
    "c = 5\n",
    "for i in range(r):\n",
    "    for j in range(c):\n",
    "        if j == 0:\n",
    "            print('*', end='')\n",
    "        elif i == 0 and j < c - 1:\n",
    "            print('*', end='')\n",
    "        elif i == r // 2 and j < c - 1:\n",
    "            print('*', end='')\n",
    "        elif j == c - 1 and i < r // 2 and i != 0:\n",
    "            print('*', end='')\n",
    "        elif i > r // 2 and j == i - r // 2:\n",
    "            print('*', end='')\n",
    "        else:\n",
    "            print(' ', end='')\n",
    "    print()"
   ]
  },
  {
   "cell_type": "code",
   "execution_count": null,
   "metadata": {},
   "outputs": [],
   "source": [
    "h = int(input(\"Input a dog's age in human years: \"))\n",
    "if h <= 2:\n",
    "    dog = h * 10.5\n",
    "else:\n",
    "    dog = 2 * 10.5 + (h - 2) * 4\n",
    "print(\"The dog's age in dog's years is:\", int(dog))"
   ]
  },
  {
   "cell_type": "code",
   "execution_count": null,
   "metadata": {},
   "outputs": [],
   "source": [
    "l = input(\"Input a letter of the alphabet: \")\n",
    "l = l.lower()\n",
    "vowels = \"aeiou\"\n",
    "if l in vowels:\n",
    "    print(f\"{l} is a vowel.\")\n",
    "elif l.isalpha() and len(l) == 1:\n",
    "    print(f\"{l} is a consonant.\")\n",
    "else:\n",
    "    print(\"Invalid input\")\n",
    "    "
   ]
  },
  {
   "cell_type": "code",
   "execution_count": 11,
   "metadata": {},
   "outputs": [
    {
     "name": "stdout",
     "output_type": "stream",
     "text": [
      "List of months: January, February, March, April, May, June, July, August, September, October, November, December\n",
      "No. of days: Invalid month name\n"
     ]
    }
   ],
   "source": [
    "def get_days_in_month(month_name):\n",
    "    month_days = {\n",
    "        \"January\": 31,\n",
    "        \"February\": \"28/29\",\n",
    "        \"March\": 31,\n",
    "        \"April\": 30,\n",
    "        \"May\": 31,\n",
    "        \"June\": 30,\n",
    "        \"July\": 31,\n",
    "        \"August\": 31,\n",
    "        \"September\": 30,\n",
    "        \"October\": 31,\n",
    "        \"November\": 30,\n",
    "        \"December\": 31\n",
    "    }\n",
    "    return month_days.get(month_name, \"Invalid month name\")\n",
    "\n",
    "print(\"List of months: January, February, March, April, May, June, July, August, September, October, November, December\")\n",
    "\n",
    "input_month = input(\"Input the name of Month: \").strip()\n",
    "\n",
    "days = get_days_in_month(input_month)\n",
    "print(f\"No. of days: {days}\")\n"
   ]
  },
  {
   "cell_type": "code",
   "execution_count": 5,
   "metadata": {},
   "outputs": [
    {
     "name": "stdout",
     "output_type": "stream",
     "text": [
      "13\n"
     ]
    }
   ],
   "source": [
    "x = int(input(\"\"))\n",
    "y = int(input(\"\"))\n",
    "if 15<=x+y<=20:\n",
    "    print(20)\n",
    "else:\n",
    "    print(x+y)"
   ]
  },
  {
   "cell_type": "code",
   "execution_count": null,
   "metadata": {},
   "outputs": [],
   "source": [
    "s = input(\"Enter the string or numbers: \")\n",
    "if s.isdigit():\n",
    "    print(\"The string is an integer.\")\n",
    "else:\n",
    "    print(\"The string is not an integer.\")"
   ]
  },
  {
   "cell_type": "code",
   "execution_count": null,
   "metadata": {},
   "outputs": [],
   "source": [
    "x = int(input(\"Input x: \"))\n",
    "y = int(input(\"Input y: \"))\n",
    "z = int(input(\"Input z: \"))\n",
    "if x + y > z and x + z > y and y + z > x:\n",
    "    if x == y == z:\n",
    "        print(\"Equilateral triangle\")\n",
    "    elif x == y or y == z or x == z:\n",
    "        print(\"Isosceles triangle\")\n",
    "    else:\n",
    "        print(\"Scalene triangle\")\n",
    "else:\n",
    "    print(\"Can not form the triangle\")"
   ]
  },
  {
   "cell_type": "code",
   "execution_count": null,
   "metadata": {},
   "outputs": [],
   "source": [
    "def determine_season(month, day):\n",
    "    if month == 12 or month == 1 or month == 2:\n",
    "        return \"winter\"\n",
    "    elif month == 3 or (month == 4 or month == 5) or (month == 6 and day < 21):\n",
    "        return \"spring\"\n",
    "    elif month == 6 or (month == 7 or month == 8) or (month == 9 and day < 23):\n",
    "        return \"summer\"\n",
    "    elif month == 9 or (month == 10 or month == 11) or (month == 12 and day < 22):\n",
    "        return \"autumn\"\n",
    "    else:\n",
    "        return \"Invalid date\"\n",
    "\n",
    "def month_to_name(month):\n",
    "    month_names = {\n",
    "        1: \"January\", 2: \"February\", 3: \"March\", 4: \"April\",\n",
    "        5: \"May\", 6: \"June\", 7: \"July\", 8: \"August\",\n",
    "        9: \"September\", 10: \"October\", 11: \"November\", 12: \"December\"\n",
    "    }\n",
    "    return month_names.get(month, \"Invalid month\")\n",
    "\n",
    "month = int(input(\"Input the month (e.g. [1-12]): \"))\n",
    "day = int(input(\"Input the day: \"))\n",
    "\n",
    "if 1 <= month <= 12 and 1 <= day <= 31:\n",
    "    season = determine_season(month, day)\n",
    "    month_name = month_to_name(month)\n",
    "    print(f\"{month_name}, {day}. Season is {season}.\")\n",
    "else:\n",
    "    print(\"Invalid month or day. Please enter a valid month (1-12) and day (1-31).\")\n"
   ]
  },
  {
   "cell_type": "code",
   "execution_count": null,
   "metadata": {},
   "outputs": [],
   "source": [
    "def get_astro_sign(day, month):\n",
    "    month = month.lower()\n",
    "    if (month == 'march' and day >= 21) or (month == 'april' and day <= 19):\n",
    "        return 'Aries'\n",
    "    elif (month == 'april' and day >= 20) or (month == 'may' and day <= 20):\n",
    "        return 'Taurus'\n",
    "    elif (month == 'may' and day >= 21) or (month == 'june' and day <= 20):\n",
    "        return 'Gemini'\n",
    "    elif (month == 'june' and day >= 21) or (month == 'july' and day <= 22):\n",
    "        return 'Cancer'\n",
    "    elif (month == 'july' and day >= 23) or (month == 'august' and day <= 22):\n",
    "        return 'Leo'\n",
    "    elif (month == 'august' and day >= 23) or (month == 'september' and day <= 22):\n",
    "        return 'Virgo'\n",
    "    elif (month == 'september' and day >= 23) or (month == 'october' and day <= 22):\n",
    "        return 'Libra'\n",
    "    elif (month == 'october' and day >= 23) or (month == 'november' and day <= 21):\n",
    "        return 'Scorpio'\n",
    "    elif (month == 'november' and day >= 22) or (month == 'december' and day <= 21):\n",
    "        return 'Sagittarius'\n",
    "    elif (month == 'december' and day >= 22) or (month == 'january' and day <= 19):\n",
    "        return 'Capricorn'\n",
    "    elif (month == 'january' and day >= 20) or (month == 'february' and day <= 18):\n",
    "        return 'Aquarius'\n",
    "    elif (month == 'february' and day >= 19) or (month == 'march' and day <= 20):\n",
    "        return 'Pisces'\n",
    "\n",
    "day = int(input(\"Input birthday: \"))\n",
    "month = input(\"Input month of birth (e.g. march, july etc): \")\n",
    "\n",
    "print(\"Your Astrological sign is:\", get_astro_sign(day, month))\n"
   ]
  },
  {
   "cell_type": "code",
   "execution_count": null,
   "metadata": {},
   "outputs": [],
   "source": [
    "zodiac = [\n",
    "    \"Rat\", \"Ox\", \"Tiger\", \"Rabbit\", \"Dragon\", \"Snake\",\n",
    "    \"Horse\", \"Goat\", \"Monkey\", \"Rooster\", \"Dog\", \"Pig\"\n",
    "]\n",
    "y = int(input(\"Input your birth year: \"))\n",
    "i = (y - 4) % 12\n",
    "sign = zodiac[i]\n",
    "print(\"Your Zodiac sign:\", sign)"
   ]
  },
  {
   "cell_type": "code",
   "execution_count": null,
   "metadata": {},
   "outputs": [],
   "source": [
    "f = float(input(\"Input first number: \"))\n",
    "s = float(input(\"Input second number: \"))\n",
    "t = float(input(\"Input third number: \"))\n",
    "nums = [f, s, t]\n",
    "nums.sort()\n",
    "md = nums[1]\n",
    "print(\"The median is:\", md)"
   ]
  },
  {
   "cell_type": "code",
   "execution_count": null,
   "metadata": {},
   "outputs": [],
   "source": [
    "from datetime import datetime, timedelta\n",
    "\n",
    "def next_day(year, month, day):\n",
    "    current_date = datetime(year, month, day)\n",
    "    next_date = current_date + timedelta(days=1)\n",
    "    return next_date.strftime(\"%Y-%m-%d\")\n",
    "\n",
    "year = int(input(\"Input a year: \"))\n",
    "month = int(input(\"Input a month [1-12]: \"))\n",
    "day = int(input(\"Input a day [1-31]: \"))\n",
    "\n",
    "print(\"The next date is [yyyy-mm-dd]\", next_day(year, month, day))"
   ]
  },
  {
   "cell_type": "code",
   "execution_count": 20,
   "metadata": {},
   "outputs": [
    {
     "name": "stdout",
     "output_type": "stream",
     "text": [
      "15\n",
      "3.0\n"
     ]
    }
   ],
   "source": [
    "summ = 0\n",
    "count = 0\n",
    "print(\"Enter numbers to calculate sum and average. Input 0 to finish.\")\n",
    "while True:\n",
    "    try: \n",
    "        num = int(input(\"Enter a number: \"))\n",
    "        if num == 0:\n",
    "            break\n",
    "        summ += num\n",
    "        count += 1\n",
    "    except ValueError:\n",
    "        print(\"Invalid input. Please enter an integer.\")\n",
    "\n",
    "if count > 0:\n",
    "    av = summ / count\n",
    "    print(\"Sum:\", summ)\n",
    "    print(\"Average:\", av)\n",
    "else:\n",
    "    print(\"No numbers\")"
   ]
  },
  {
   "cell_type": "code",
   "execution_count": 3,
   "metadata": {},
   "outputs": [
    {
     "name": "stdout",
     "output_type": "stream",
     "text": [
      "5 x 1 = 5\n",
      "5 x 2 = 10\n",
      "5 x 3 = 15\n",
      "5 x 4 = 20\n",
      "5 x 5 = 25\n",
      "5 x 6 = 30\n",
      "5 x 7 = 35\n",
      "5 x 8 = 40\n",
      "5 x 9 = 45\n",
      "5 x 10 = 50\n"
     ]
    }
   ],
   "source": [
    "n = int(input(\"Input a number: \"))\n",
    "for i in range(1, 11):\n",
    "    res = n * i\n",
    "    print(f\"{n} x {i} = {res}\")"
   ]
  },
  {
   "cell_type": "code",
   "execution_count": 25,
   "metadata": {},
   "outputs": [
    {
     "name": "stdout",
     "output_type": "stream",
     "text": [
      "1\n",
      "22\n",
      "333\n",
      "4444\n",
      "55555\n",
      "666666\n",
      "7777777\n",
      "88888888\n",
      "999999999\n"
     ]
    }
   ],
   "source": [
    "def print_pattern():\n",
    "    for i in range(1, 10):\n",
    "        print(str(i) * i)\n",
    "\n",
    "print_pattern()"
   ]
  },
  {
   "cell_type": "code",
   "execution_count": null,
   "metadata": {},
   "outputs": [],
   "source": [
    "datalist = [1452, 11.23, 1+2j, True, 'student', (0, -1), [5, 12], {\"class\":'V', \"section\":'A'}]\n",
    "\n",
    "def print_items_and_types(datalist):\n",
    "    for item in datalist:\n",
    "        print(f'{item} is of type {type(item)}')"
   ]
  },
  {
   "cell_type": "code",
   "execution_count": 26,
   "metadata": {},
   "outputs": [
    {
     "name": "stdout",
     "output_type": "stream",
     "text": [
      "0 1 2 4 5 "
     ]
    }
   ],
   "source": [
    "def print_numbers():\n",
    "    for i in range(7):\n",
    "        if i == 3 or i == 6:\n",
    "            continue\n",
    "        print(i, end=\" \")\n",
    "\n",
    "print_numbers()"
   ]
  }
 ],
 "metadata": {
  "kernelspec": {
   "display_name": "base",
   "language": "python",
   "name": "python3"
  },
  "language_info": {
   "codemirror_mode": {
    "name": "ipython",
    "version": 3
   },
   "file_extension": ".py",
   "mimetype": "text/x-python",
   "name": "python",
   "nbconvert_exporter": "python",
   "pygments_lexer": "ipython3",
   "version": "3.12.4"
  }
 },
 "nbformat": 4,
 "nbformat_minor": 2
}
