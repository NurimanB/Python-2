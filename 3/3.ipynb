{
 "cells": [
  {
   "cell_type": "code",
   "execution_count": 6,
   "metadata": {},
   "outputs": [
    {
     "name": "stdout",
     "output_type": "stream",
     "text": [
      "Number of students who passed 3 tests: 3\n"
     ]
    }
   ],
   "source": [
    "with open('grades.txt', 'r') as file:\n",
    "    passed = 0\n",
    "\n",
    "    for line in file:\n",
    "        data = line.split()\n",
    "        user = data[0]\n",
    "        scores = list(map(int, data[1:]))\n",
    "\n",
    "        if all(score >= 50 for score in scores):\n",
    "            passed += 1\n",
    "\n",
    "print(f\"Number of students who passed 3 tests: {passed}\")"
   ]
  },
  {
   "cell_type": "code",
   "execution_count": 9,
   "metadata": {},
   "outputs": [
    {
     "name": "stdout",
     "output_type": "stream",
     "text": [
      "Satoru Gojo was online for more than a hour\n",
      "Hasan Dimash was online for more than a hour\n"
     ]
    }
   ],
   "source": [
    "from datetime import datetime\n",
    "\n",
    "with open('logfile.txt', 'r') as file:\n",
    "\n",
    "    for line in file:\n",
    "        user, on, off = line.strip().split(', ')\n",
    "        time = '%H:%M'\n",
    "        on_time = datetime.strptime(on, time)\n",
    "        off_time = datetime.strptime(off, time)\n",
    "\n",
    "        diff = off_time - on_time\n",
    "        min_online = diff.total_seconds() / 60\n",
    "\n",
    "        if min_online >= 60:\n",
    "            print(f'{user} was online for more than a hour')"
   ]
  },
  {
   "cell_type": "code",
   "execution_count": 13,
   "metadata": {},
   "outputs": [
    {
     "name": "stdout",
     "output_type": "stream",
     "text": [
      "a) ['time', 'prime', 'time']\n",
      "b) ['dave', 'gave', 'dave', 'dave']\n",
      "c) 111\n",
      "d) 90.43478260869566\n",
      "e) ['try', 'n']\n",
      "f) []\n"
     ]
    }
   ],
   "source": [
    "import re\n",
    "\n",
    "with open('wordlist.txt', 'r') as f:\n",
    "    content = f.read()\n",
    "\n",
    "words = re.findall(r'\\b\\w+\\b', content)\n",
    "words = [word.lower() for word in words]\n",
    "\n",
    "vowels = set('aeiou')\n",
    "letters_rstln = set('rstln')\n",
    "letters_rstlne = set('rstlne')\n",
    "\n",
    "# (a)\n",
    "ime = [word for word in words if word.endswith('ime')]\n",
    "\n",
    "# (b)\n",
    "ave = [word for word in words if len(word) >= 4 and word[1:4] == 'ave']\n",
    "\n",
    "# (c)\n",
    "rstlne = len([word for word in words if any(char in letters_rstlne for char in word)])\n",
    "\n",
    "# (d) \n",
    "percentage_rstlne = (len([word for word in words if any(char in letters_rstln for char in word)]) / len(words)) * 100\n",
    "\n",
    "# (e) \n",
    "no_vowels = [word for word in words if not any(char in vowels for char in word)]\n",
    "\n",
    "# (f) \n",
    "all_vowels = [word for word in words if all(vowel in word for vowel in vowels)]\n",
    "\n",
    "print(f'a) {ime}')\n",
    "print(f'b) {ave}')\n",
    "print(f'c) {rstlne}')\n",
    "print(f'd) {percentage_rstlne}')\n",
    "print(f'e) {no_vowels}')\n",
    "print(f'f) {all_vowels}')"
   ]
  }
 ],
 "metadata": {
  "kernelspec": {
   "display_name": "base",
   "language": "python",
   "name": "python3"
  },
  "language_info": {
   "codemirror_mode": {
    "name": "ipython",
    "version": 3
   },
   "file_extension": ".py",
   "mimetype": "text/x-python",
   "name": "python",
   "nbconvert_exporter": "python",
   "pygments_lexer": "ipython3",
   "version": "3.12.4"
  }
 },
 "nbformat": 4,
 "nbformat_minor": 2
}
