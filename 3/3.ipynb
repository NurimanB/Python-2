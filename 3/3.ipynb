{
 "cells": [
  {
   "cell_type": "code",
   "execution_count": 6,
   "metadata": {},
   "outputs": [
    {
     "name": "stdout",
     "output_type": "stream",
     "text": [
      "Number of students who passed 3 tests: 3\n"
     ]
    }
   ],
   "source": [
    "with open('grades.txt', 'r') as file:\n",
    "    passed = 0\n",
    "\n",
    "    for line in file:\n",
    "        data = line.split()\n",
    "        user = data[0]\n",
    "        scores = list(map(int, data[1:]))\n",
    "\n",
    "        if all(score >= 50 for score in scores):\n",
    "            passed += 1\n",
    "\n",
    "print(f\"Number of students who passed 3 tests: {passed}\")"
   ]
  },
  {
   "cell_type": "code",
   "execution_count": 9,
   "metadata": {},
   "outputs": [
    {
     "name": "stdout",
     "output_type": "stream",
     "text": [
      "Satoru Gojo was online for more than a hour\n",
      "Hasan Dimash was online for more than a hour\n"
     ]
    }
   ],
   "source": [
    "from datetime import datetime\n",
    "\n",
    "with open('logfile.txt', 'r') as file:\n",
    "\n",
    "    for line in file:\n",
    "        user, on, off = line.strip().split(', ')\n",
    "        time = '%H:%M'\n",
    "        on_time = datetime.strptime(on, time)\n",
    "        off_time = datetime.strptime(off, time)\n",
    "\n",
    "        diff = off_time - on_time\n",
    "        min_online = diff.total_seconds() / 60\n",
    "\n",
    "        if min_online >= 60:\n",
    "            print(f'{user} was online for more than a hour')"
   ]
  },
  {
   "cell_type": "code",
   "execution_count": 10,
   "metadata": {},
   "outputs": [
    {
     "ename": "TypeError",
     "evalue": "'int' object is not iterable",
     "output_type": "error",
     "traceback": [
      "\u001b[1;31m---------------------------------------------------------------------------\u001b[0m",
      "\u001b[1;31mTypeError\u001b[0m                                 Traceback (most recent call last)",
      "Cell \u001b[1;32mIn[10], line 8\u001b[0m\n\u001b[0;32m      4\u001b[0m     text \u001b[38;5;241m=\u001b[39m file\u001b[38;5;241m.\u001b[39mread()\n\u001b[0;32m      6\u001b[0m words \u001b[38;5;241m=\u001b[39m \u001b[38;5;28mlen\u001b[39m(\u001b[38;5;124m'\u001b[39m\u001b[38;5;124mwordlist.txt\u001b[39m\u001b[38;5;124m'\u001b[39m)\n\u001b[1;32m----> 8\u001b[0m ending_with_ime \u001b[38;5;241m=\u001b[39m [word \u001b[38;5;28;01mfor\u001b[39;00m word \u001b[38;5;129;01min\u001b[39;00m words \u001b[38;5;28;01mif\u001b[39;00m word\u001b[38;5;241m.\u001b[39mendswith(\u001b[38;5;124m'\u001b[39m\u001b[38;5;124mime\u001b[39m\u001b[38;5;124m'\u001b[39m)]\n\u001b[0;32m     10\u001b[0m second_third_fourth_ave \u001b[38;5;241m=\u001b[39m [word \u001b[38;5;28;01mfor\u001b[39;00m word \u001b[38;5;129;01min\u001b[39;00m words \u001b[38;5;28;01mif\u001b[39;00m \u001b[38;5;28mlen\u001b[39m(word) \u001b[38;5;241m>\u001b[39m\u001b[38;5;241m=\u001b[39m \u001b[38;5;241m4\u001b[39m \u001b[38;5;129;01mand\u001b[39;00m word[\u001b[38;5;241m1\u001b[39m:\u001b[38;5;241m4\u001b[39m] \u001b[38;5;241m==\u001b[39m \u001b[38;5;124m'\u001b[39m\u001b[38;5;124mave\u001b[39m\u001b[38;5;124m'\u001b[39m]\n\u001b[0;32m     12\u001b[0m \u001b[38;5;66;03m# (c) Count of words that contain at least one of the letters 'r', 's', 't', 'l', 'n', 'e'\u001b[39;00m\n",
      "\u001b[1;31mTypeError\u001b[0m: 'int' object is not iterable"
     ]
    }
   ],
   "source": [
    "import re\n",
    "\n",
    "with open('wordlist.txt', 'r') as file:\n",
    "    text = file.read()\n",
    " \n",
    "words = len('wordlist.txt')\n",
    "\n",
    "ending_with_ime = [word for word in words if word.endswith('ime')]\n",
    "\n",
    "second_third_fourth_ave = [word for word in words if len(word) >= 4 and word[1:4] == 'ave']\n",
    "\n",
    "# (c) Count of words that contain at least one of the letters 'r', 's', 't', 'l', 'n', 'e'\n",
    "letters = set('rstlne')\n",
    "count_with_letters = sum(1 for word in words if any(letter in word for letter in letters))\n",
    "\n",
    "# (d) Percentage of words that contain at least one of the letters 'r', 's', 't', 'l', 'n'\n",
    "total_words = len(words)\n",
    "percentage_with_letters = (count_with_letters / total_words) * 100 if total_words else 0\n",
    "\n",
    "# (e) All words with no vowels\n",
    "no_vowels = [word for word in words if not re.search(r'[aeiou]', word)]\n",
    "\n",
    "# (f) All words that contain every vowel\n",
    "all_vowels = set('aeiou')\n",
    "with_all_vowels = [word for word in words if all(vowel in word for vowel in all_vowels)]\n",
    "\n",
    "# Print the results\n",
    "print(\"Words ending in 'ime':\", ending_with_ime)  # Expected: ['time', 'prime']\n",
    "print(\"Words whose second, third, and fourth letters are 'ave':\", second_third_fourth_ave)  # Expected: ['Dave', 'gave']\n",
    "print(\"Count of words containing at least one of the letters 'r', 's', 't', 'l', 'n', 'e':\", count_with_letters)  # Verify this output\n",
    "print(\"Percentage of words containing at least one of the letters 'r', 's', 't', 'l', 'n': {:.2f}%\".format(percentage_with_letters))  # Verify this output\n",
    "print(\"Words with no vowels:\", no_vowels)  # Expected: ['n', 'try']\n",
    "print(\"Words containing every vowel:\", with_all_vowels)  # Expected: []\n"
   ]
  }
 ],
 "metadata": {
  "kernelspec": {
   "display_name": "base",
   "language": "python",
   "name": "python3"
  },
  "language_info": {
   "codemirror_mode": {
    "name": "ipython",
    "version": 3
   },
   "file_extension": ".py",
   "mimetype": "text/x-python",
   "name": "python",
   "nbconvert_exporter": "python",
   "pygments_lexer": "ipython3",
   "version": "3.12.4"
  }
 },
 "nbformat": 4,
 "nbformat_minor": 2
}
