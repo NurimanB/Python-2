{
 "cells": [
  {
   "cell_type": "code",
   "execution_count": 2,
   "metadata": {},
   "outputs": [
    {
     "name": "stdout",
     "output_type": "stream",
     "text": [
      "Element at odd-index positions from list one: [6, 12, 18]\n",
      "Element at even-index positions from list two: [4, 12, 20, 28]\n",
      "Final third list: [6, 12, 18, 4, 12, 20, 28]\n"
     ]
    }
   ],
   "source": [
    "first = input('Enter first list separated by spaces')\n",
    "second = input('Enter second list separated by spaces')\n",
    "l1 = list(map(int, first.split()))\n",
    "l2 = list(map(int, second.split()))\n",
    "#l1 = [3, 6, 9, 12, 15, 18, 21]\n",
    "#l2 = [4, 8, 12, 16, 20, 24, 28]\n",
    "\n",
    "odd_index = l1[1::2]\n",
    "\n",
    "even_index = l2[0::2]\n",
    "\n",
    "final_list = odd_index + even_index\n",
    "\n",
    "print(f'Element at odd-index positions from list one: {odd_index}')\n",
    "print(f'Element at even-index positions from list two: {even_index}')\n",
    "print(f'Final third list: {final_list}')\n"
   ]
  },
  {
   "cell_type": "code",
   "execution_count": 7,
   "metadata": {},
   "outputs": [
    {
     "name": "stdout",
     "output_type": "stream",
     "text": [
      "3\n"
     ]
    }
   ],
   "source": [
    "def unique(lst):\n",
    "    for num in lst:\n",
    "        if lst.count(num) == 1:\n",
    "            return num\n",
    "        \n",
    "seq = input('Enter a list of numbers: ')\n",
    "lst = list(map(int, str(seq)))\n",
    "print(unique(lst))"
   ]
  },
  {
   "cell_type": "code",
   "execution_count": 2,
   "metadata": {},
   "outputs": [
    {
     "name": "stdout",
     "output_type": "stream",
     "text": [
      "['aabaabac', 'aababcba', 'aabacbab']\n"
     ]
    }
   ],
   "source": [
    "def pattern(l, patt):\n",
    "    def match(str, patt):\n",
    "        if len(str) != len(patt):\n",
    "            return False\n",
    "        for s_char, p_char in zip(str, patt):\n",
    "            if p_char != '*' and p_char != s_char:\n",
    "                return False\n",
    "        return True\n",
    "    \n",
    "    return [s for s in l if match(s, patt)]\n",
    "\n",
    "l = ['aabaabac', 'cabaabca', 'aababcba', 'aabacbab', 'acababba']\n",
    "patt = 'a**a****'\n",
    "print(pattern(l, patt))"
   ]
  },
  {
   "cell_type": "code",
   "execution_count": null,
   "metadata": {},
   "outputs": [],
   "source": [
    "with open('class_scores.txt','r') as file1, open('scores2.txt','w') as file2:\n",
    "    for line in file1:\n",
    "        parts=line.srtip().split()\n",
    "        if len(parts)==2:\n",
    "            username=parts[0]\n",
    "            grade=int(parts[1])\n",
    "            new_grade=grade+5\n",
    "            file2.write(f\"{username} {new_grade}\\n\")\n",
    "        else:\n",
    "            print(\"no\")"
   ]
  },
  {
   "cell_type": "code",
   "execution_count": 5,
   "metadata": {},
   "outputs": [
    {
     "name": "stdout",
     "output_type": "stream",
     "text": [
      "Encrypted message: GkoesesreefGk\n"
     ]
    }
   ],
   "source": [
    "def encrypt(message, N):\n",
    "    groups = [''] * N\n",
    "    \n",
    "    for i, char in enumerate(message):\n",
    "        groups[i % N] += char\n",
    "    \n",
    "    encrypted_message = ''.join(groups)\n",
    "    \n",
    "    return encrypted_message\n",
    "\n",
    "message = input(\"Enter the message to encrypt: \")\n",
    "N = int(input(\"Enter the number of groups (e.g., 3 for threes): \"))\n",
    "\n",
    "encrypted_message = encrypt(message, N)\n",
    "\n",
    "print(\"Encrypted message:\", encrypted_message)\n"
   ]
  },
  {
   "cell_type": "code",
   "execution_count": 4,
   "metadata": {},
   "outputs": [
    {
     "name": "stdout",
     "output_type": "stream",
     "text": [
      "21 30\n"
     ]
    }
   ],
   "source": [
    "#An = A + (N - 1) * B\n",
    "#S = (N * (2 * A + (N - 1) * B)) // 2\n",
    "def arith_seq_sum(A, B, N):\n",
    "    return (N * (2 * A + (N - 1) * B)) // 2\n",
    "\n",
    "num_cases = int(input(\"Enter number of test cases: \"))\n",
    "\n",
    "results = []\n",
    "\n",
    "for _ in range(num_cases):\n",
    "    A, B, N = map(int, input().split())\n",
    "    sum_value = arith_seq_sum(A, B, N)\n",
    "    results.append(sum_value)\n",
    "\n",
    "print(\" \".join(map(str, results)))"
   ]
  }
 ],
 "metadata": {
  "kernelspec": {
   "display_name": "base",
   "language": "python",
   "name": "python3"
  },
  "language_info": {
   "codemirror_mode": {
    "name": "ipython",
    "version": 3
   },
   "file_extension": ".py",
   "mimetype": "text/x-python",
   "name": "python",
   "nbconvert_exporter": "python",
   "pygments_lexer": "ipython3",
   "version": "3.12.4"
  }
 },
 "nbformat": 4,
 "nbformat_minor": 2
}
