{
 "cells": [
  {
   "cell_type": "code",
   "execution_count": 19,
   "metadata": {},
   "outputs": [
    {
     "name": "stdout",
     "output_type": "stream",
     "text": [
      "52\n"
     ]
    }
   ],
   "source": [
    "#Sum of squares\n",
    "def squares(n_list):\n",
    "    total_sum = 0  \n",
    "    for n in n_list:\n",
    "        a = 0\n",
    "        S_N = 0  \n",
    "        while a * a <= n:\n",
    "            b_squared = n - a * a\n",
    "            b = int(b_squared ** 0.5)\n",
    "            \n",
    "            if a * a + b * b == n and a <= b:\n",
    "                S_N += a  \n",
    "            a += 1\n",
    "        \n",
    "        total_sum += S_N\n",
    "    \n",
    "    return total_sum\n",
    "n = [5, 13, 17, 29, 37, 41, 53, 61, 73, 89, 97, 101, 109, 113, 137, 149]\n",
    "result = squares(n)\n",
    "print(result)"
   ]
  },
  {
   "cell_type": "code",
   "execution_count": 23,
   "metadata": {},
   "outputs": [
    {
     "name": "stdout",
     "output_type": "stream",
     "text": [
      "189752572\n"
     ]
    }
   ],
   "source": [
    "#n-sequences\n",
    "MOD = 1_000_000_009\n",
    "\n",
    "def calculate_n_sequences(n):\n",
    "    \"\"\"Calculate f(n) modulo MOD.\"\"\"\n",
    "    dp = [0] * (n + 1)\n",
    "    total_f_n = 0\n",
    "\n",
    "    for length in range(1, n + 1):\n",
    "        dp[length] = dp[length - 1] + length\n",
    "        total_f_n += dp[length]\n",
    "        total_f_n %= MOD\n",
    "\n",
    "    return total_f_n\n",
    "\n",
    "result = calculate_n_sequences(7500000)\n",
    "print(result)\n"
   ]
  },
  {
   "cell_type": "code",
   "execution_count": 3,
   "metadata": {},
   "outputs": [
    {
     "data": {
      "text/plain": [
       "(3, 165)"
      ]
     },
     "execution_count": 3,
     "metadata": {},
     "output_type": "execute_result"
    }
   ],
   "source": [
    "#Integral median\n",
    "from math import isqrt\n",
    "\n",
    "def count_triangles(n):\n",
    "    count = 0\n",
    "    for c in range(1, n + 1):\n",
    "        for b in range(1, c + 1):\n",
    "            for a in range(1, b + 1):\n",
    "                if a + b > c: \n",
    "                    median_squared = 2 * (a ** 2 + b ** 2) - c ** 2\n",
    "                    if median_squared > 0:\n",
    "                        median = isqrt(median_squared)\n",
    "                        if median * median == median_squared and median % 2 == 0:\n",
    "                            count += 1\n",
    "    return count\n",
    "\n",
    "example_1 = count_triangles(10)  \n",
    "example_2 = count_triangles(50)  \n",
    "\n",
    "example_1 , example_2, "
   ]
  },
  {
   "cell_type": "code",
   "execution_count": 16,
   "metadata": {},
   "outputs": [
    {
     "name": "stdout",
     "output_type": "stream",
     "text": [
      "The number is: 2825302\n",
      "['28', '82', '253', '2530', '5302']\n"
     ]
    }
   ],
   "source": [
    "#10-substring\n",
    "#I couldn't make it so that it gives sum of \n",
    "def find_ten_substring(num_str):\n",
    "    list = []\n",
    "    for i in num_str:\n",
    "        list.append(int(i))\n",
    "    list1 = []\n",
    "    for i in range(0, len(list)):\n",
    "        j = i\n",
    "        sum = 0\n",
    "        string1 = ''\n",
    "        string3 = ''\n",
    "        while True:\n",
    "            if j < len(list) and sum < 10:\n",
    "                sum += list[j]\n",
    "                string1 += str(list[j])\n",
    "                j += 1\n",
    "            else:\n",
    "                break\n",
    "        if sum == 10:\n",
    "            list1.append(string1)\n",
    "            string3 += string1\n",
    "        while j < len(list) and list[j] == 0:\n",
    "            string3 += str(list[j])\n",
    "            list1.append(string3)\n",
    "            j += 1\n",
    "    return list1\n",
    "\n",
    "num_str = \"2825302\"\n",
    "print(\"The number is:\", num_str)\n",
    "result_list = find_ten_substring(num_str)\n",
    "print(result_list)\n"
   ]
  },
  {
   "cell_type": "code",
   "execution_count": 21,
   "metadata": {},
   "outputs": [
    {
     "name": "stdout",
     "output_type": "stream",
     "text": [
      "243\n"
     ]
    }
   ],
   "source": [
    "#n-sequences\n",
    "MOD = 10**9 + 7\n",
    "\n",
    "def count_n_sequences(n, max_value):\n",
    "    dp = [[0] * (max_value + 1) for _ in range(n + 1)]\n",
    "    \n",
    "    for j in range(1, max_value + 1):\n",
    "        dp[1][j] = 1\n",
    "    \n",
    "    for i in range(2, n + 1):\n",
    "        for j in range(1, max_value + 1):\n",
    "            dp[i][j] = sum(dp[i - 1][k] for k in range(1, max_value + 1)) % MOD\n",
    "    \n",
    "    result = sum(dp[n][j] for j in range(1, max_value + 1)) % MOD\n",
    "    \n",
    "    return result\n",
    "\n",
    "print(count_n_sequences(5, 3))\n"
   ]
  },
  {
   "cell_type": "code",
   "execution_count": 28,
   "metadata": {},
   "outputs": [
    {
     "name": "stdout",
     "output_type": "stream",
     "text": [
      "Solutions for b: [-0.04829759605119094, -1.9428776798041147]\n"
     ]
    }
   ],
   "source": [
    "#Triangle on Parabola\n",
    "import math\n",
    "import cmath  \n",
    "\n",
    "def parabola_y(x):\n",
    "    return x ** 2\n",
    "\n",
    "def cosine_rule(a, b):\n",
    "    a2 = a ** 2\n",
    "    b2 = b ** 2\n",
    "    a4 = a ** 4\n",
    "    b4 = b ** 4\n",
    "    return (a - b) ** 2 + (a2 - b2) ** 2 - a * b * (1 + a * b)\n",
    "\n",
    "def solve_b(a):\n",
    "\n",
    "    A = 3 * a ** 2 - 1\n",
    "    B = 8 * a\n",
    "    C = 3 - a ** 2\n",
    "\n",
    "    discriminant = B ** 2 - 4 * A * C\n",
    "    if discriminant < 0:\n",
    "        sqrt_disc = cmath.sqrt(discriminant)\n",
    "    else:\n",
    "        sqrt_disc = math.sqrt(discriminant)\n",
    "    \n",
    "    b1 = (-B + sqrt_disc) / (2 * A)\n",
    "    b2 = (-B - sqrt_disc) / (2 * A)\n",
    "    \n",
    "    return [b for b in (b1, b2) if b < 0]\n",
    "\n",
    "#special case a = sqrt(1 + sqrt(2))\n",
    "a_special = math.sqrt(1 + math.sqrt(2))\n",
    "b_solutions = solve_b(a_special)\n",
    "\n",
    "print(\"Solutions for b:\", b_solutions)"
   ]
  },
  {
   "cell_type": "code",
   "execution_count": 1,
   "metadata": {},
   "outputs": [
    {
     "name": "stdout",
     "output_type": "stream",
     "text": [
      "5\n"
     ]
    }
   ],
   "source": [
    "def guessing_game_cost(n, a, b, memo=None):\n",
    "    \"\"\"Calculates the minimum worst-case cost using optimal guessing strategy.\"\"\"\n",
    "    if n <= 1:\n",
    "        return 0\n",
    "    if memo is None:\n",
    "        memo = {}\n",
    "\n",
    "    if (n, a, b) in memo:\n",
    "        return memo[(n, a, b)]\n",
    "\n",
    "    min_cost = float('inf')\n",
    "    for guess in range(1, n + 1):\n",
    "        # Cost if guess is too low or too high\n",
    "        cost_lower = a + guessing_game_cost(guess - 1, a, b, memo)\n",
    "        cost_higher = b + guessing_game_cost(n - guess, a, b, memo)\n",
    "        \n",
    "        # Worst-case cost for this guess\n",
    "        worst_cost = max(cost_lower, cost_higher)\n",
    "        \n",
    "        # Choose the minimum of the maximum costs\n",
    "        min_cost = min(min_cost, worst_cost)\n",
    "\n",
    "    memo[(n, a, b)] = min_cost\n",
    "    return min_cost\n",
    "\n",
    "# Example usage:\n",
    "worst_case_cost = guessing_game_cost(5, 2, 3)\n",
    "print(worst_case_cost)\n"
   ]
  }
 ],
 "metadata": {
  "kernelspec": {
   "display_name": "base",
   "language": "python",
   "name": "python3"
  },
  "language_info": {
   "codemirror_mode": {
    "name": "ipython",
    "version": 3
   },
   "file_extension": ".py",
   "mimetype": "text/x-python",
   "name": "python",
   "nbconvert_exporter": "python",
   "pygments_lexer": "ipython3",
   "version": "3.12.4"
  }
 },
 "nbformat": 4,
 "nbformat_minor": 2
}
