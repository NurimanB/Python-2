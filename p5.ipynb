{
 "cells": [
  {
   "cell_type": "code",
   "execution_count": 13,
   "metadata": {},
   "outputs": [
    {
     "name": "stdout",
     "output_type": "stream",
     "text": [
      "Principal - $1000.00, Interest rate - 5.12%\n",
      "30600.0\n"
     ]
    }
   ],
   "source": [
    "class investment():\n",
    "    def __init__(self, principal, interest):\n",
    "        self.principal = principal\n",
    "        self.interest = interest\n",
    "    \n",
    "    def value_after(self, n):\n",
    "        self.n = n\n",
    "        return self.n * (1+self.interest) * self.principal\n",
    "    \n",
    "    def __str__(self):\n",
    "        return f'Principal - ${self.principal:.2f}, Interest rate - {self.interest:.2f}%'\n",
    "    \n",
    "Investment = investment(1000, 5.12)\n",
    "print(Investment)\n",
    "print(Investment.value_after(5))"
   ]
  },
  {
   "cell_type": "code",
   "execution_count": 19,
   "metadata": {},
   "outputs": [
    {
     "ename": "TypeError",
     "evalue": "Product.get_price() missing 1 required positional argument: 'a'",
     "output_type": "error",
     "traceback": [
      "\u001b[1;31m---------------------------------------------------------------------------\u001b[0m",
      "\u001b[1;31mTypeError\u001b[0m                                 Traceback (most recent call last)",
      "Cell \u001b[1;32mIn[19], line 27\u001b[0m\n\u001b[0;32m     25\u001b[0m product1 \u001b[38;5;241m=\u001b[39m Product(\u001b[38;5;124m'\u001b[39m\u001b[38;5;124mIphone 16\u001b[39m\u001b[38;5;124m'\u001b[39m, \u001b[38;5;241m100\u001b[39m, \u001b[38;5;241m800\u001b[39m)\n\u001b[0;32m     26\u001b[0m product2 \u001b[38;5;241m=\u001b[39m Product(\u001b[38;5;124m'\u001b[39m\u001b[38;5;124mAir pods 3\u001b[39m\u001b[38;5;124m'\u001b[39m, \u001b[38;5;241m300\u001b[39m, \u001b[38;5;241m150\u001b[39m)\n\u001b[1;32m---> 27\u001b[0m product3 \u001b[38;5;241m=\u001b[39m Product\u001b[38;5;241m.\u001b[39mget_price(\u001b[38;5;241m43\u001b[39m)\n\u001b[0;32m     28\u001b[0m product4 \u001b[38;5;241m=\u001b[39m Product\u001b[38;5;241m.\u001b[39mmake_purchase(\u001b[38;5;241m90\u001b[39m)\n",
      "\u001b[1;31mTypeError\u001b[0m: Product.get_price() missing 1 required positional argument: 'a'"
     ]
    }
   ],
   "source": [
    "class Product():\n",
    "    def __init__ (self, name, amount, price):\n",
    "        self.name = name\n",
    "        self.amount = amount\n",
    "        self.amount = price\n",
    "\n",
    "    def get_price(self, a):\n",
    "        if a < 10:\n",
    "            return self.price\n",
    "        elif 10 <= a <= 99:\n",
    "            return self.price * 0.9\n",
    "        else:\n",
    "            return self.price * 0.8\n",
    "\n",
    "    def make_purchase(self, a):\n",
    "        if a <= self.amount:\n",
    "            self.amount -= a\n",
    "            return self.get_price(a) * a\n",
    "        else: \n",
    "            return f'Insufficient amount of items'\n",
    "        \n",
    "    def __str__ (self):\n",
    "        return f\"product's price - {self.price(self.a)}, make - {self.make_purchasez(self.a)}\"\n",
    "\n",
    "product1 = Product('Iphone 16', 100, 800)\n",
    "product2 = Product('Air pods 3', 300, 150)\n",
    "product3 = Product.get_price(43)\n",
    "product4 = Product.make_purchase(90)\n",
    "\n",
    "\n",
    "\n"
   ]
  },
  {
   "cell_type": "markdown",
   "metadata": {},
   "source": []
  }
 ],
 "metadata": {
  "kernelspec": {
   "display_name": "base",
   "language": "python",
   "name": "python3"
  },
  "language_info": {
   "codemirror_mode": {
    "name": "ipython",
    "version": 3
   },
   "file_extension": ".py",
   "mimetype": "text/x-python",
   "name": "python",
   "nbconvert_exporter": "python",
   "pygments_lexer": "ipython3",
   "version": "3.12.4"
  }
 },
 "nbformat": 4,
 "nbformat_minor": 2
}
