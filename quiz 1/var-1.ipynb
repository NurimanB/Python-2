{
 "cells": [
  {
   "cell_type": "code",
   "execution_count": 5,
   "metadata": {},
   "outputs": [
    {
     "name": "stdout",
     "output_type": "stream",
     "text": [
      "Please enter an integer number\n"
     ]
    }
   ],
   "source": [
    "#ax + bx + c = 0\n",
    "#ax + bx = -c\n",
    "#x(a+b) = -c\n",
    "#x = -c/(a+b)\n",
    "a = float(input(\"a: \"))\n",
    "b = float(input(\"b: \")) \n",
    "c = float(input(\"c: \"))\n",
    "\n",
    "if a == int(a) and b == int(b) and c == int(c):\n",
    "    x = -c/(a+b)\n",
    "    print(round(x, 3))\n",
    "else: \n",
    "    print(\"Please enter an integer number\")\n"
   ]
  },
  {
   "cell_type": "code",
   "execution_count": 12,
   "metadata": {},
   "outputs": [
    {
     "name": "stdout",
     "output_type": "stream",
     "text": [
      "14385"
     ]
    }
   ],
   "source": [
    "a = 12345\n",
    "lst = list(map(int, str(a)))\n",
    "\n",
    "lst[1] = lst[1] * 2\n",
    "lst[3] = lst[3] * 2\n",
    "\n",
    "for i in lst:\n",
    "    print(i, end=\"\")"
   ]
  },
  {
   "cell_type": "code",
   "execution_count": 28,
   "metadata": {},
   "outputs": [
    {
     "name": "stdout",
     "output_type": "stream",
     "text": [
      "[]\n"
     ]
    }
   ],
   "source": [
    "def findall(s, char):\n",
    "    index = []\n",
    "    for i in range(len(s)):\n",
    "        s = s.lower()\n",
    "        if s[i] == char:\n",
    "            index.append(i)\n",
    "    return index\n",
    "\n",
    "s = input(\"Enter a string: \")\n",
    "char = input(\"Enter character to find: \")\n",
    "\n",
    "res = findall(s, char)\n",
    "print(res)"
   ]
  },
  {
   "cell_type": "code",
   "execution_count": null,
   "metadata": {},
   "outputs": [],
   "source": [
    "import math\n",
    "\n",
    "def compute_distance():\n",
    "    x, y = 0, 0  \n",
    "    \n",
    "    while True:\n",
    "        movement = input().strip()\n",
    "        if not movement:\n",
    "            break  \n",
    "        \n",
    "        direction, steps = movement.split()\n",
    "        steps = int(steps)\n",
    "\n",
    "        if direction == \"UP\":\n",
    "            y += steps\n",
    "        elif direction == \"DOWN\":\n",
    "            y -= steps\n",
    "        elif direction == \"LEFT\":\n",
    "            x -= steps\n",
    "        elif direction == \"RIGHT\":\n",
    "            x += steps\n",
    "\n",
    "    distance = math.sqrt(x**2 + y**2)\n",
    " \n",
    "    print(round(distance))\n",
    "\n",
    "# Example input:\n",
    "# UP 5\n",
    "# DOWN 3\n",
    "# LEFT 3\n",
    "# RIGHT 2\n",
    "\n",
    "compute_distance()\n"
   ]
  },
  {
   "cell_type": "code",
   "execution_count": null,
   "metadata": {},
   "outputs": [],
   "source": [
    "def rotate_list(lst):\n",
    "    if len(lst) > 1:\n",
    "        rotated_list = [lst[-1]] + lst[:-1]\n",
    "        return rotated_list\n",
    "    else:\n",
    "        return lst\n",
    "\n",
    "lst = [1, 2, 3, 4, 5] \n",
    "rotated = rotate_list(lst)\n",
    "print(\"Original list:\", lst)\n",
    "print(\"Rotated list:\", rotated)\n"
   ]
  }
 ],
 "metadata": {
  "kernelspec": {
   "display_name": "base",
   "language": "python",
   "name": "python3"
  },
  "language_info": {
   "codemirror_mode": {
    "name": "ipython",
    "version": 3
   },
   "file_extension": ".py",
   "mimetype": "text/x-python",
   "name": "python",
   "nbconvert_exporter": "python",
   "pygments_lexer": "ipython3",
   "version": "3.12.4"
  }
 },
 "nbformat": 4,
 "nbformat_minor": 2
}
