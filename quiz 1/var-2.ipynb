{
 "cells": [
  {
   "cell_type": "code",
   "execution_count": 4,
   "metadata": {},
   "outputs": [
    {
     "name": "stdout",
     "output_type": "stream",
     "text": [
      "5 is lower than secret number\n",
      "4 is lower than secret number\n",
      "3 is lower than secret number\n",
      "9 is higher than secret number\n",
      "0 is lower than secret number\n",
      "You guessed the number 7\n"
     ]
    }
   ],
   "source": [
    "secret = 7\n",
    "num = int(input(' '))\n",
    "\n",
    "while secret != num:\n",
    "    if num > secret:\n",
    "        print(f'{num} is higher than secret number')\n",
    "    elif num < secret:\n",
    "        print(f'{num} is lower than secret number') \n",
    "        \n",
    "    num = int(input('Try again: '))\n",
    "\n",
    "print(f'You guessed the number {secret}')"
   ]
  },
  {
   "cell_type": "code",
   "execution_count": 11,
   "metadata": {},
   "outputs": [
    {
     "name": "stdout",
     "output_type": "stream",
     "text": [
      "9\n"
     ]
    }
   ],
   "source": [
    "word = str('EVAPORATE')\n",
    "lst = list(map(str, str(word)))\n",
    "print(len(lst))\n",
    "\n",
    "for i in range(len(lst)):\n",
    "\n",
    "    "
   ]
  }
 ],
 "metadata": {
  "kernelspec": {
   "display_name": "base",
   "language": "python",
   "name": "python3"
  },
  "language_info": {
   "codemirror_mode": {
    "name": "ipython",
    "version": 3
   },
   "file_extension": ".py",
   "mimetype": "text/x-python",
   "name": "python",
   "nbconvert_exporter": "python",
   "pygments_lexer": "ipython3",
   "version": "3.12.4"
  }
 },
 "nbformat": 4,
 "nbformat_minor": 2
}
