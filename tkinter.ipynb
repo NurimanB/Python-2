{
 "cells": [
  {
   "cell_type": "code",
   "execution_count": 20,
   "metadata": {},
   "outputs": [],
   "source": [
    "import tkinter as tk\n",
    "\n",
    "def click(key):\n",
    "    if key == \"=\":\n",
    "        try:\n",
    "            entry.insert(tk.END, f\"= {eval(entry.get())}\")\n",
    "        except:\n",
    "            entry.insert(tk.END, \" Error\")\n",
    "    elif key == \"C\":\n",
    "        entry.delete(0, tk.END)\n",
    "    else:\n",
    "        entry.insert(tk.END, key)\n",
    "\n",
    "window = tk.Tk()\n",
    "window.title(\"Calculator\")\n",
    "\n",
    "entry = tk.Entry(window, width=35, borderwidth=4, font=(\"Arial\", 14))\n",
    "entry.grid(row=0, column=0, columnspan=4)\n",
    "\n",
    "buttons = [\n",
    "    '7', '8', '9', '/', \n",
    "    '4', '5', '6', '*', \n",
    "    '1', '2', '3', '-', \n",
    "    'C', '0', '=', '+'\n",
    "]\n",
    "\n",
    "row = 1\n",
    "col = 0\n",
    "\n",
    "for btn in buttons:\n",
    "    tk.Button(window, text=btn, width=8, height=2, command=lambda key=btn: click(key)).grid(row=row, column=col)\n",
    "    col += 1\n",
    "    if col > 3: \n",
    "        col = 0\n",
    "        row += 1\n",
    "window.mainloop()"
   ]
  }
 ],
 "metadata": {
  "kernelspec": {
   "display_name": "base",
   "language": "python",
   "name": "python3"
  },
  "language_info": {
   "codemirror_mode": {
    "name": "ipython",
    "version": 3
   },
   "file_extension": ".py",
   "mimetype": "text/x-python",
   "name": "python",
   "nbconvert_exporter": "python",
   "pygments_lexer": "ipython3",
   "version": "3.12.4"
  }
 },
 "nbformat": 4,
 "nbformat_minor": 2
}
