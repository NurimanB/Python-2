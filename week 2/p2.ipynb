{
 "cells": [
  {
   "cell_type": "code",
   "execution_count": null,
   "metadata": {},
   "outputs": [],
   "source": [
    "#between 1500 27000\n",
    "x = 1500\n",
    "while x<=2700:\n",
    "    if x%7==0 and x%5==0:\n",
    "        print(x)\n",
    "    x+=1"
   ]
  },
  {
   "cell_type": "code",
   "execution_count": null,
   "metadata": {},
   "outputs": [],
   "source": [
    "x = input(\"Enter a temperature measure(C/F): \")\n",
    "if x==\"C\":\n",
    "    y = int(input(\"Enter a temperature degree: \"))\n",
    "    fr = y*(9/5)+32\n",
    "    print(y, \" in celsius is \", fr, \" in fahrenheit\")\n",
    "elif x==\"F\":\n",
    "    y = int(input(\"Enter a temperature degree: \"))\n",
    "    cel = (y-32)*(5/9)\n",
    "    print(y,\" in fahrenheit is \", cel, \"in celsius\")\n",
    "else: \n",
    "    print(\"Enter a valid temperature measure\")"
   ]
  },
  {
   "cell_type": "code",
   "execution_count": null,
   "metadata": {},
   "outputs": [],
   "source": [
    "import random \n",
    "num = random.randint(1,9)\n",
    "while True:\n",
    "    quess = int(input(\"Guess a number between 1 and 9: \"))\n",
    "    if num == quess:\n",
    "        print(\"Well quessed!\")\n",
    "        break\n",
    "    else: \n",
    "        print(\"Try again...\")"
   ]
  },
  {
   "cell_type": "code",
   "execution_count": null,
   "metadata": {},
   "outputs": [],
   "source": [
    "def pattern():\n",
    "    # increasing stars\n",
    "    for i in range(1, 6):          \n",
    "        for j in range(i):          \n",
    "            print('*', end=' ')   \n",
    "        print()                    \n",
    "    \n",
    "    # decreasing stars\n",
    "    for i in range(4, 0, -1):  \n",
    "        for j in range(i):     \n",
    "            print('*', end=' ')      \n",
    "        print()                      \n",
    "\n",
    "pattern()"
   ]
  },
  {
   "cell_type": "code",
   "execution_count": null,
   "metadata": {},
   "outputs": [],
   "source": [
    "word = input(\"\")[::-1]\n",
    "print(word)"
   ]
  },
  {
   "cell_type": "code",
   "execution_count": null,
   "metadata": {},
   "outputs": [],
   "source": [
    "l = input(\"Enter a list of numbers: \")\n",
    "nums = l.split()\n",
    "even_count = 0\n",
    "odd_count = 0\n",
    "\n",
    "for num in nums:\n",
    "    if int(num) % 2 == 0: \n",
    "        even_count += 1\n",
    "    else:\n",
    "        odd_count += 1\n",
    "\n",
    "# Print the counts\n",
    "print(\"Number of even numbers:\", even_count)\n",
    "print(\"Number of odd numbers:\", odd_count)\n"
   ]
  },
  {
   "cell_type": "code",
   "execution_count": null,
   "metadata": {},
   "outputs": [],
   "source": [
    "a, b = 1, 1\n",
    "while a <= 50:\n",
    "    print(a, end=' ')\n",
    "    a, b = b, a + b\n"
   ]
  },
  {
   "cell_type": "code",
   "execution_count": null,
   "metadata": {},
   "outputs": [],
   "source": [
    "for i in range(1, 51): \n",
    "    if i % 3 == 0 and i % 5 == 0:\n",
    "        print(\"McmKBTU\") \n",
    "    elif i % 3 == 0:\n",
    "        print(\"Mkm\")   \n",
    "    elif i % 5 == 0:\n",
    "        print(\"KBTU\") \n",
    "    else:\n",
    "        print(i)       # For all other numbers, print the number itself\n",
    "\n"
   ]
  },
  {
   "cell_type": "code",
   "execution_count": null,
   "metadata": {},
   "outputs": [],
   "source": [
    "m = int(input(\"Input number of rows: \"))\n",
    "n = int(input(\"Input number of columns: \"))\n",
    "\n",
    "result = []\n",
    "for i in range(m):\n",
    "    row = []\n",
    "    for j in range(n):\n",
    "        row.append(i * j)\n",
    "    result.append(row)\n",
    "\n",
    "print(result)"
   ]
  },
  {
   "cell_type": "code",
   "execution_count": 2,
   "metadata": {},
   "outputs": [],
   "source": [
    "l = []\n",
    "\n",
    "while True:\n",
    "    line = input(\"Enter a line (blank line to terminate): \")\n",
    "    if line == \"\":\n",
    "        break \n",
    "    l.append(line.lower()) \n",
    "\n",
    "for line in l:\n",
    "    print(line)\n"
   ]
  },
  {
   "cell_type": "code",
   "execution_count": null,
   "metadata": {},
   "outputs": [],
   "source": [
    "def div_by_5(binary_sequence):\n",
    "    binary_nums = binary_sequence.split(',')\n",
    "    divisible_nums = [binary for binary in binary_nums if int(binary, 2) % 5 == 0]\n",
    "    return ','.join(divisible_nums)\n",
    "\n",
    "input_sequence = \"0100,0011,1010,1001,1100,1001\"\n",
    "result = div_by_5(input_sequence)\n",
    "print(result)\n"
   ]
  },
  {
   "cell_type": "code",
   "execution_count": null,
   "metadata": {},
   "outputs": [],
   "source": [
    "def count_l_d(int_string):\n",
    "    letters = sum(c.isalpha() for c in int_string)\n",
    "    digits = sum(c.isdigit() for c in int_string)\n",
    "    return letters, digits\n",
    "\n",
    "int_string = \"KBTU MKM 2018\"\n",
    "letters, digits = count_l_d(int_string)\n",
    "print(f\"Letters {letters}\")\n",
    "print(f\"Digits {digits}\")\n"
   ]
  },
  {
   "cell_type": "code",
   "execution_count": null,
   "metadata": {},
   "outputs": [],
   "source": [
    "import re\n",
    "\n",
    "def valid_password(password):\n",
    "    if (6 <= len(password) <= 16 and  # Check length is between 6 and 16 characters\n",
    "        re.search(\"[a-z]\", password) and  # At least one lowercase letter\n",
    "        re.search(\"[A-Z]\", password) and  # At least one uppercase letter\n",
    "        re.search(\"[0-9]\", password) and  # At least one digit\n",
    "        re.search(\"[$#@]\", password)):  # At least one special character from [$#@]\n",
    "        return True\n",
    "    else:\n",
    "        return False\n",
    "\n",
    "password = input(\"Enter password: \")\n",
    "\n",
    "if valid_password(password):\n",
    "    print(\"Password is valid.\")\n",
    "else:\n",
    "    print(\"Password is invalid.\")\n"
   ]
  },
  {
   "cell_type": "code",
   "execution_count": null,
   "metadata": {},
   "outputs": [],
   "source": [
    "l = []\n",
    "\n",
    "for num in range(100,401):\n",
    "    digits = str(num)\n",
    "    if all(int(digit) % 2 == 0 for digit in digits):  # Check if all digits are even\n",
    "        l.append(digits)\n",
    "\n",
    "result = ','.join(l)\n",
    "print(result)  \n",
    "    "
   ]
  },
  {
   "cell_type": "code",
   "execution_count": null,
   "metadata": {},
   "outputs": [],
   "source": [
    "r = 7\n",
    "c = 5\n",
    "for i in range(r):\n",
    "    for j in range(c):\n",
    "        # Conditions to print 'A'\n",
    "        if (i == 0 or i == r // 2) and (j > 0 and j < c - 1):\n",
    "            # Print the top and middle horizontal lines of 'A'\n",
    "            print('*', end='')\n",
    "        elif (j == 0 or j == c - 1) and i > 0:\n",
    "            # Print the vertical lines of 'A'\n",
    "            print('*', end='')\n",
    "        else:\n",
    "            # Print spaces elsewhere\n",
    "            print(' ', end='')\n",
    "    print()\n"
   ]
  },
  {
   "cell_type": "code",
   "execution_count": null,
   "metadata": {},
   "outputs": [],
   "source": [
    "r = 7  \n",
    "c = 5  \n",
    "\n",
    "for i in range(r):\n",
    "    for j in range(c):\n",
    "        if j == 0 or (i in {0, r - 1} and j < c - 1) or (j == c - 1 and i != 0 and i != r - 1):\n",
    "            print('*', end='')\n",
    "        else:\n",
    "            print(' ', end='')\n",
    "    print()\n"
   ]
  },
  {
   "cell_type": "code",
   "execution_count": null,
   "metadata": {},
   "outputs": [],
   "source": [
    "r = 7  \n",
    "c = 5  \n",
    "\n",
    "for i in range(r):\n",
    "    for j in range(c):\n",
    "        if j == 0 or (i == 0 or i == r // 2 or i == r - 1):\n",
    "            print('*', end='')\n",
    "        else:\n",
    "            print(' ', end='')\n",
    "    print()\n"
   ]
  },
  {
   "cell_type": "code",
   "execution_count": null,
   "metadata": {},
   "outputs": [],
   "source": [
    "r = 7 \n",
    "c = 5  \n",
    "\n",
    "for i in range(r):\n",
    "    for j in range(c):\n",
    "        if j == 0 or (i == 0 and j < c - 1) or (i == r - 1 and j < c - 1) or \\\n",
    "           (i == r // 2 and j >= c // 2) or (i > r // 2 and j == c - 1 and i > r // 2):\n",
    "            print('*', end='')\n",
    "        else:\n",
    "            print(' ', end='')\n",
    "    print()\n"
   ]
  }
 ],
 "metadata": {
  "kernelspec": {
   "display_name": "base",
   "language": "python",
   "name": "python3"
  },
  "language_info": {
   "codemirror_mode": {
    "name": "ipython",
    "version": 3
   },
   "file_extension": ".py",
   "mimetype": "text/x-python",
   "name": "python",
   "nbconvert_exporter": "python",
   "pygments_lexer": "ipython3",
   "version": "3.12.4"
  }
 },
 "nbformat": 4,
 "nbformat_minor": 2
}
