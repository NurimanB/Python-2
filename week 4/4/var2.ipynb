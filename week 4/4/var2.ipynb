{
 "cells": [
  {
   "cell_type": "code",
   "execution_count": null,
   "metadata": {},
   "outputs": [],
   "source": [
    "def swap(a, b):\n",
    "    swapped_1 = b[:1] + a[1:]\n",
    "    swapped_2 = a[:1] + b[1:]\n",
    "    return swapped_1 + ' ' + swapped_2\n",
    "\n",
    "a = input('Enter the first word: ')\n",
    "b = input('Enter the second word: ')\n",
    "\n",
    "res = swap(a, b)\n",
    "print(res)"
   ]
  },
  {
   "cell_type": "code",
   "execution_count": null,
   "metadata": {},
   "outputs": [],
   "source": [
    "def rotate_list(lst):\n",
    "    if len(lst) > 1: #to check if input is not 0 or 1 number\n",
    "        rotated = lst[-1] + lst[:-1] \n",
    "        return rotated\n",
    "    else:\n",
    "        return lst\n",
    "\n",
    "lst = input('Enter numbers: ')\n",
    "rotated_list = rotate_list(lst)\n",
    "print(rotated_list)"
   ]
  },
  {
   "cell_type": "code",
   "execution_count": null,
   "metadata": {},
   "outputs": [],
   "source": [
    "def pattern(l, patt):\n",
    "    def match(str, patt):\n",
    "        if len(str) != len(patt):\n",
    "            return False\n",
    "        for s_char, p_char in zip(str, patt):\n",
    "            if p_char != '*' and p_char != s_char:\n",
    "                return False\n",
    "        return True\n",
    "    \n",
    "    return [s for s in l if match(s, patt)]\n",
    "\n",
    "l = ['aabaabac', 'cabaabca', 'aababcba', 'aabacbab', 'acababba']\n",
    "patt = 'a**a****'\n",
    "print(pattern(l, patt))"
   ]
  },
  {
   "cell_type": "code",
   "execution_count": null,
   "metadata": {},
   "outputs": [],
   "source": [
    "with open('students.txt', 'r') as infile, open('students2.txt', 'w') as outfile:\n",
    "    for line in infile:\n",
    "        parts = line.strip().split() #split line for 4 separate elements (name, surname, email, phone)\n",
    "        \n",
    "        if len(parts) == 4:\n",
    "            name = parts[0].capitalize()\n",
    "            surname = parts[1].capitalize()\n",
    "\n",
    "            phone = parts[3]\n",
    "            new_phone = f'301-{phone}'  \n",
    "\n",
    "            outfile.write(f'{name}\\t{surname}\\t{parts[2]}\\t{new_phone}\\n')    #final line  \n",
    "        else:\n",
    "            print(f'Invalid line: {line.strip()}')"
   ]
  },
  {
   "cell_type": "code",
   "execution_count": 4,
   "metadata": {},
   "outputs": [
    {
     "name": "stdout",
     "output_type": "stream",
     "text": [
      "avehay amcray aketay atcay impshray ebuchettray ateyay appleyay oakenyay eagleyay\n"
     ]
    }
   ],
   "source": [
    "sentence = \"have cram take cat shrimp trebuchet ate apple oaken eagle\"\n",
    "vowels = 'aeiou'\n",
    "words = sentence.split()\n",
    "translated_sentence = []\n",
    "\n",
    "for word in words:\n",
    "    if word[0].lower() in vowels:\n",
    "        translated_word = word + 'yay'\n",
    "    else:\n",
    "        for i, char in enumerate(word):\n",
    "            if char.lower() in vowels:\n",
    "                translated_word = word[i:] + word[:i] + 'ay'\n",
    "                break\n",
    "    \n",
    "    translated_sentence.append(translated_word)\n",
    "\n",
    "print(' '.join(translated_sentence))"
   ]
  },
  {
   "cell_type": "code",
   "execution_count": null,
   "metadata": {},
   "outputs": [],
   "source": [
    "'''\n",
    "y(x)=ax+b\n",
    "{y1 = ax1 + b\n",
    "{y2 = ax2 + b  substract eq1 from eq2 ->\n",
    "\n",
    "-> y2 - y1 = a(x2 - x1) -> a = (y2-y1)//(x2-x1)\n",
    "sub a to eq1 -> b = y1 - ax1\n",
    "'''\n",
    "\n",
    "cases = int(input('Enter a number of cases:'))\n",
    "\n",
    "for i in range(cases):\n",
    "    x1, y1, x2, y2 = map(int, input().split())\n",
    "\n",
    "    a = (y2 - y1) // (x2 - x1)\n",
    "    b = y1 - a * x1\n",
    "    print(f'({a} {b})')"
   ]
  }
 ],
 "metadata": {
  "kernelspec": {
   "display_name": "base",
   "language": "python",
   "name": "python3"
  },
  "language_info": {
   "codemirror_mode": {
    "name": "ipython",
    "version": 3
   },
   "file_extension": ".py",
   "mimetype": "text/x-python",
   "name": "python",
   "nbconvert_exporter": "python",
   "pygments_lexer": "ipython3",
   "version": "3.12.4"
  }
 },
 "nbformat": 4,
 "nbformat_minor": 2
}
