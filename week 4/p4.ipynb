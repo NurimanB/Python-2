{
 "cells": [
  {
   "cell_type": "code",
   "execution_count": 2,
   "metadata": {},
   "outputs": [
    {
     "data": {
      "text/plain": [
       "1.7320508075688772"
      ]
     },
     "execution_count": 2,
     "metadata": {},
     "output_type": "execute_result"
    }
   ],
   "source": [
    "def power(a, b):\n",
    "    return a**b\n",
    "\n",
    "a = int(input(''))\n",
    "b = eval(input(''))\n",
    "\n",
    "power(a,b)\n",
    "huhuhih"
   ]
  },
  {
   "cell_type": "code",
   "execution_count": 7,
   "metadata": {},
   "outputs": [
    {
     "name": "stdout",
     "output_type": "stream",
     "text": [
      " As The first fibonacci numbers are [0, 1, 1, 2, 3] , and their cubes are [0, 1, 1, 8, 27].  \n"
     ]
    }
   ],
   "source": [
    "num = int(input('Enter how many numbers to take: '))\n",
    "\n",
    "fibonacci = [0, 1]\n",
    "\n",
    "for i in range(2, num):\n",
    "    next_number = fibonacci[i-1] + fibonacci[i-2]\n",
    "    fibonacci.append(next_number)\n",
    "\n",
    "l = lambda x: [n**3 for n in x]\n",
    "\n",
    "cube = l(fibonacci)\n",
    "\n",
    "print(f' As The first fibonacci numbers are {fibonacci} , and their cubes are {cube}.  ')\n"
   ]
  },
  {
   "cell_type": "code",
   "execution_count": null,
   "metadata": {},
   "outputs": [],
   "source": [
    "import re\n",
    "\n",
    "x = ''\n",
    "num = int(input(\"How many emails to enter?: \"))\n",
    "for i in range(num):\n",
    "    emails = input('Enter an email adress: ')\n"
   ]
  }
 ],
 "metadata": {
  "kernelspec": {
   "display_name": "base",
   "language": "python",
   "name": "python3"
  },
  "language_info": {
   "codemirror_mode": {
    "name": "ipython",
    "version": 3
   },
   "file_extension": ".py",
   "mimetype": "text/x-python",
   "name": "python",
   "nbconvert_exporter": "python",
   "pygments_lexer": "ipython3",
   "version": "3.12.4"
  }
 },
 "nbformat": 4,
 "nbformat_minor": 2
}
