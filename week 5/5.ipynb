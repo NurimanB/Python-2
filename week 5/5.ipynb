{
 "cells": [
  {
   "cell_type": "code",
   "execution_count": 4,
   "metadata": {},
   "outputs": [
    {
     "name": "stdout",
     "output_type": "stream",
     "text": [
      "Circle[radius=5.0, color=blue]\n",
      "Radius: 5.0\n",
      "Area: 78.53999999999999\n"
     ]
    }
   ],
   "source": [
    "class Circle:\n",
    "    def __init__(self, radius=1.0, color=\"red\"):\n",
    "        self.radius = radius\n",
    "        self.color = color\n",
    "\n",
    "    def Area(self):\n",
    "        return 3.1416 * (self.radius ** 2)\n",
    "\n",
    "    def __str__(self):\n",
    "        return f\"Circle[radius={self.radius}, color={self.color}]\"\n",
    "\n",
    "\n",
    "circle = Circle(5.0, \"blue\")\n",
    "print(circle)\n",
    "print(\"Radius:\", circle.radius)\n",
    "print(\"Area:\", circle.Area())"
   ]
  },
  {
   "cell_type": "code",
   "execution_count": 13,
   "metadata": {},
   "outputs": [
    {
     "name": "stdout",
     "output_type": "stream",
     "text": [
      "Rectangle[length=2.0, width=3.0]\n",
      "Area: 6.0\n",
      "Perimeter: 10.0\n"
     ]
    }
   ],
   "source": [
    "class Rectangle:\n",
    "    def __init__(self, length=1.0, width=1.0):\n",
    "        self.length = length\n",
    "        self.width = width\n",
    "\n",
    "    def Area(self):\n",
    "        return self.length * self.width\n",
    "\n",
    "    def Perimeter(self):\n",
    "        return 2 * (self.length + self.width)\n",
    "\n",
    "    def __str__(self):\n",
    "        return f\"Rectangle[length={self.length}, width={self.width}]\"\n",
    "\n",
    "\n",
    "rect = Rectangle(2.0, 3.0)\n",
    "print(rect)\n",
    "print(\"Area:\", rect.Area())\n",
    "print(\"Perimeter:\", rect.Perimeter())"
   ]
  },
  {
   "cell_type": "code",
   "execution_count": 6,
   "metadata": {},
   "outputs": [
    {
     "name": "stdout",
     "output_type": "stream",
     "text": [
      "23:59:59\n",
      "After next second: 00:00:00\n",
      "After previous second: 23:59:59\n"
     ]
    }
   ],
   "source": [
    "class Time:\n",
    "    def __init__(self, hour=0, minute=0, second=0):\n",
    "        self.hour, self.minute, self.second = hour, minute, second\n",
    "\n",
    "    def nextSecond(self):\n",
    "        self.second = (self.second + 1) % 60\n",
    "        if self.second == 0:\n",
    "            self.minute = (self.minute + 1) % 60\n",
    "            if self.minute == 0:\n",
    "                self.hour = (self.hour + 1) % 24\n",
    "        return self\n",
    "\n",
    "    def __str__(self):\n",
    "        return f\"{self.hour:02}:{self.minute:02}:{self.second:02}\"\n",
    "\n",
    "\n",
    "time = Time(23, 59, 59)\n",
    "print(time)\n",
    "print(\"After next second:\", time.nextSecond())"
   ]
  },
  {
   "cell_type": "code",
   "execution_count": 15,
   "metadata": {},
   "outputs": [
    {
     "name": "stdout",
     "output_type": "stream",
     "text": [
      "Author[name=Nuriman Baltabayev, email=n_baltabayev@kbtu.kz, gender=male]\n"
     ]
    }
   ],
   "source": [
    "class Author:\n",
    "    def __init__(self, name, email, gender):\n",
    "        self.name, self.email, self.gender = name, email, gender\n",
    "\n",
    "    def __str__(self):\n",
    "        return f\"Author[name={self.name}, email={self.email}, gender={self.gender}]\"\n",
    "\n",
    "\n",
    "author = Author(\"Nuriman Baltabayev\", \"n_baltabayev@kbtu.kz\", \"male\")\n",
    "print(author)"
   ]
  },
  {
   "cell_type": "code",
   "execution_count": 16,
   "metadata": {},
   "outputs": [
    {
     "name": "stdout",
     "output_type": "stream",
     "text": [
      "Book[name=Pride and Prejudice, Author[name=Nuriman Baltabayev, email=n_baltabayev@kbtu.kz, gender=male], price=19.99, qty=5]\n"
     ]
    }
   ],
   "source": [
    "class Book:\n",
    "    def __init__(self, name, author, price, qty=0):\n",
    "        self.name, self.author, self.price, self.qty = name, author, price, qty\n",
    "\n",
    "    def __str__(self):\n",
    "        return f\"Book[name={self.name}, {self.author}, price={self.price}, qty={self.qty}]\"\n",
    "\n",
    "\n",
    "book = Book(\"Pride and Prejudice\", author, 19.99, 5)\n",
    "print(book)"
   ]
  }
 ],
 "metadata": {
  "kernelspec": {
   "display_name": "base",
   "language": "python",
   "name": "python3"
  },
  "language_info": {
   "codemirror_mode": {
    "name": "ipython",
    "version": 3
   },
   "file_extension": ".py",
   "mimetype": "text/x-python",
   "name": "python",
   "nbconvert_exporter": "python",
   "pygments_lexer": "ipython3",
   "version": "3.12.4"
  }
 },
 "nbformat": 4,
 "nbformat_minor": 2
}
